{
  "nbformat": 4,
  "nbformat_minor": 0,
  "metadata": {
    "colab": {
      "name": "Copy of L04.ipynb",
      "provenance": [],
      "collapsed_sections": [],
      "include_colab_link": true
    },
    "language_info": {
      "codemirror_mode": {
        "name": "ipython",
        "version": 3
      },
      "file_extension": ".py",
      "mimetype": "text/x-python",
      "name": "python",
      "nbconvert_exporter": "python",
      "pygments_lexer": "ipython3",
      "version": "3.6.8"
    },
    "kernelspec": {
      "display_name": "Python 3",
      "language": "python",
      "name": "python3"
    }
  },
  "cells": [
    {
      "cell_type": "markdown",
      "metadata": {
        "id": "view-in-github",
        "colab_type": "text"
      },
      "source": [
        "<a href=\"https://colab.research.google.com/github/InfiniteCuriosity/An-Introduction-To-Statistical-Learning/blob/master/Copy_of_L04.ipynb\" target=\"_parent\"><img src=\"https://colab.research.google.com/assets/colab-badge.svg\" alt=\"Open In Colab\"/></a>"
      ]
    },
    {
      "cell_type": "markdown",
      "metadata": {
        "id": "xFrzPlyoikd9"
      },
      "source": [
        "We will now train a decision tree and a simple neural network, a multi-layer perceptron, to classify handwritten digits in the MNIST dataset\n",
        "\n",
        "Below we load our libraries we'll be using and download the MNIST dataset"
      ]
    },
    {
      "cell_type": "code",
      "metadata": {
        "id": "UZ27Nqb8TBKx"
      },
      "source": [
        "# Read in the mnist digit dataset\n",
        "\n",
        "from sklearn.datasets import fetch_openml\n",
        "from sklearn.model_selection import train_test_split\n",
        "from sklearn.utils import check_random_state\n",
        "import random\n",
        "from sklearn import tree\n",
        "import matplotlib.pyplot as plt\n",
        "import numpy as np\n",
        "from sklearn.neural_network import MLPClassifier\n",
        "\n",
        "X, y = fetch_openml('mnist_784', version=1, return_X_y=True)"
      ],
      "execution_count": null,
      "outputs": []
    },
    {
      "cell_type": "markdown",
      "metadata": {
        "id": "KB0MV4C1jCAC"
      },
      "source": [
        "Next, we will divide the data into a training set and test set, randomly selecting 5000 examples for training"
      ]
    },
    {
      "cell_type": "code",
      "metadata": {
        "id": "IJ2-XGCVTBK3"
      },
      "source": [
        "train_samples = 5000\n",
        "\n",
        "random_state = check_random_state(0)\n",
        "permutation = random_state.permutation(X.shape[0])\n",
        "X = X[permutation]\n",
        "y = y[permutation]\n",
        "X = X.reshape((X.shape[0], -1))\n",
        "\n",
        "X_train, X_test, y_train, y_test = train_test_split(\n",
        "    X, y, train_size=train_samples, test_size=1000)"
      ],
      "execution_count": null,
      "outputs": []
    },
    {
      "cell_type": "markdown",
      "metadata": {
        "id": "E_IzNFu0jlH-"
      },
      "source": [
        "Let's print out the 417$^{\\text{th}}$ item in the dataset and its label"
      ]
    },
    {
      "cell_type": "code",
      "metadata": {
        "id": "CnYWxjv0fjPN",
        "colab": {
          "base_uri": "https://localhost:8080/",
          "height": 285
        },
        "outputId": "6434926a-66b4-4048-c637-e1d9219e5b82"
      },
      "source": [
        "i = 417\n",
        "img = np.array(X_train[i]).reshape(28,28)\n",
        "plt.imshow(img, cmap='gray', vmin=0, vmax=255)\n",
        "plt.show()\n",
        "y_train[i]"
      ],
      "execution_count": null,
      "outputs": [
        {
          "output_type": "display_data",
          "data": {
            "image/png": "[encoded data removed]",
            "text/plain": [
              "<Figure size 432x288 with 1 Axes>"
            ]
          },
          "metadata": {
            "tags": [],
            "needs_background": "light"
          }
        },
        {
          "output_type": "execute_result",
          "data": {
            "application/vnd.google.colaboratory.intrinsic+json": {
              "type": "string"
            },
            "text/plain": [
              "'3'"
            ]
          },
          "metadata": {
            "tags": []
          },
          "execution_count": 3
        }
      ]
    },
    {
      "cell_type": "markdown",
      "metadata": {
        "id": "97zMhsOVj6aH"
      },
      "source": [
        "Let's see how a decision tree with 170 decision rules performs by training it and printing its accuracy"
      ]
    },
    {
      "cell_type": "code",
      "metadata": {
        "id": "TO8UQY0viwRV",
        "colab": {
          "base_uri": "https://localhost:8080/"
        },
        "outputId": "82df1bad-c938-42dd-fc84-18b48ad7692e"
      },
      "source": [
        "clf = tree.DecisionTreeClassifier(max_leaf_nodes = 170)\t\n",
        "clf = clf.fit(X_train, y_train)\t\t\t\n",
        "correct = 0\t\t\t\t\t\t\n",
        "for i in range(len(X_test)):\t\n",
        "  if clf.predict([X_test[i]]) == y_test[i]: correct = correct + 1\n",
        "  acc = [100.0* correct / len(X_test)]\n",
        "acc"
      ],
      "execution_count": null,
      "outputs": [
        {
          "output_type": "execute_result",
          "data": {
            "text/plain": [
              "[79.6]"
            ]
          },
          "metadata": {
            "tags": []
          },
          "execution_count": 4
        }
      ]
    },
    {
      "cell_type": "markdown",
      "metadata": {
        "id": "icfBxFlPkLoE"
      },
      "source": [
        "Now let's try a simple neural network, a multi-layer perceptron with no hidden layers"
      ]
    },
    {
      "cell_type": "code",
      "metadata": {
        "id": "AFaBc0-xpPnq",
        "colab": {
          "base_uri": "https://localhost:8080/"
        },
        "outputId": "b9d1980d-c6bc-4379-d529-3e1cd4b12697"
      },
      "source": [
        "clf = MLPClassifier(hidden_layer_sizes=[], max_iter = 10000, activation = 'identity')\n",
        "clf.fit(X_train, y_train)\n",
        "score = clf.score(X_test, y_test)\n",
        "print(score)"
      ],
      "execution_count": null,
      "outputs": [
        {
          "output_type": "stream",
          "text": [
            "0.848\n"
          ],
          "name": "stdout"
        }
      ]
    },
    {
      "cell_type": "markdown",
      "metadata": {
        "id": "CTpGs2l-kdOs"
      },
      "source": [
        "Now, we will add one hidden layer and expand the number of hidden units from 10 to 200 in intervals of 10. We'll print the accuracy of each model given the number of hidden units."
      ]
    },
    {
      "cell_type": "code",
      "metadata": {
        "id": "FFoZESbCupY3",
        "colab": {
          "base_uri": "https://localhost:8080/"
        },
        "outputId": "95688a32-a7ae-41c3-f702-d6269945f3d4"
      },
      "source": [
        "for i in range(1,21):\n",
        "  nhidden = i*10\n",
        "  clf = MLPClassifier(hidden_layer_sizes=[nhidden], max_iter = 10000)\n",
        "  clf.fit(X_train, y_train)\n",
        "  score = clf.score(X_test, y_test)\n",
        "  print(nhidden, score)"
      ],
      "execution_count": null,
      "outputs": [
        {
          "output_type": "stream",
          "text": [
            "10 0.552\n",
            "20 0.661\n",
            "30 0.868\n",
            "40 0.867\n",
            "50 0.846\n",
            "60 0.876\n",
            "70 0.904\n",
            "80 0.864\n",
            "90 0.855\n",
            "100 0.863\n",
            "110 0.886\n",
            "120 0.904\n",
            "130 0.902\n",
            "140 0.91\n",
            "150 0.912\n",
            "160 0.888\n",
            "170 0.91\n",
            "180 0.922\n",
            "190 0.911\n",
            "200 0.916\n"
          ],
          "name": "stdout"
        }
      ]
    },
    {
      "cell_type": "markdown",
      "metadata": {
        "id": "iQnlAyfFk-FU"
      },
      "source": [
        "To see how a model varies across multiple runes, we check it ten times."
      ]
    },
    {
      "cell_type": "code",
      "metadata": {
        "id": "PKTMwDxcuycF",
        "colab": {
          "base_uri": "https://localhost:8080/"
        },
        "outputId": "136b3842-4191-4199-dc4d-610c436fb2b7"
      },
      "source": [
        "nhidden = 180\n",
        "for i in range(10):\n",
        "  clf = MLPClassifier(hidden_layer_sizes=[nhidden], max_iter = 10000)\n",
        "  clf.fit(X_train, y_train)\n",
        "  score = clf.score(X_test, y_test)\n",
        "  print(nhidden,score)"
      ],
      "execution_count": null,
      "outputs": [
        {
          "output_type": "stream",
          "text": [
            "180 0.893\n",
            "180 0.912\n",
            "180 0.926\n",
            "180 0.909\n",
            "180 0.905\n",
            "180 0.92\n",
            "180 0.923\n",
            "180 0.894\n",
            "180 0.896\n",
            "180 0.915\n"
          ],
          "name": "stdout"
        }
      ]
    }
  ]
}